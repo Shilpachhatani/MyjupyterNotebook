{
  "nbformat": 4,
  "nbformat_minor": 0,
  "metadata": {
    "colab": {
      "provenance": []
    },
    "kernelspec": {
      "name": "python3",
      "display_name": "Python 3"
    },
    "language_info": {
      "name": "python"
    }
  },
  "cells": [
    {
      "cell_type": "markdown",
      "source": [
        "## Exercise 2. ##\n",
        "# DataScience Tools and Ecosystem #"
      ],
      "metadata": {
        "id": "d2vFkrP4u7hS"
      }
    },
    {
      "cell_type": "markdown",
      "source": [
        "## Exercise 3.##\n",
        "# INTRODUCTION #\n",
        "In this notebook, Data Science Tools and Ecosystem are summarized.\n"
      ],
      "metadata": {
        "id": "osENaW19wEes"
      }
    },
    {
      "cell_type": "markdown",
      "source": [
        "## Exercise 4.##\n",
        "# DS Languages #\n",
        "1. Python\n",
        "2. R\n",
        "3. Julia"
      ],
      "metadata": {
        "id": "ojGOoVvpyCuA"
      }
    },
    {
      "cell_type": "markdown",
      "source": [
        "## Exercise 5.##\n",
        "# Data Science Libraries #\n",
        "1. Numpy\n",
        "2. Panda\n",
        "3. Matplotlib\n",
        "4. Seaborn\n",
        "5. Scikit-Learn\n"
      ],
      "metadata": {
        "id": "mEAm_buy0Ofu"
      }
    },
    {
      "cell_type": "markdown",
      "source": [
        "## Exercise 6.##\n",
        "| Data Science Tools |\n",
        "|--------------------|\n",
        "| Jupyterlab/Jupyterlite |\n",
        "| RStudio |\n",
        "| Hadoop |\n",
        "| Tableau |\n",
        "| Apache Spark |\n"
      ],
      "metadata": {
        "id": "w9atj4hV1IIC"
      }
    },
    {
      "cell_type": "markdown",
      "source": [
        "## Exercise 7.##\n",
        "### Below are a few examples of evaluating arithmetic expressions in Python ###"
      ],
      "metadata": {
        "id": "lY5m_qOJ7w5-"
      }
    },
    {
      "cell_type": "markdown",
      "source": [
        "## Exercise 8.##\n",
        "### multiply and add numbers ###"
      ],
      "metadata": {
        "id": "HbZuMOBD8TbY"
      }
    },
    {
      "cell_type": "code",
      "source": [
        "(3*4)+5"
      ],
      "metadata": {
        "colab": {
          "base_uri": "https://localhost:8080/"
        },
        "id": "j0vcbfc78ciV",
        "outputId": "f1139e85-4346-4fb0-b009-04906d05f9de"
      },
      "execution_count": 1,
      "outputs": [
        {
          "output_type": "execute_result",
          "data": {
            "text/plain": [
              "17"
            ]
          },
          "metadata": {},
          "execution_count": 1
        }
      ]
    },
    {
      "cell_type": "markdown",
      "source": [
        "## Exercise 9.##\n",
        "### convert 200 minutes into hours ###"
      ],
      "metadata": {
        "id": "YWO4WBON80t7"
      }
    },
    {
      "cell_type": "code",
      "source": [
        "(200)/60"
      ],
      "metadata": {
        "colab": {
          "base_uri": "https://localhost:8080/"
        },
        "id": "VgbkEZQn87iZ",
        "outputId": "f0360eec-796e-43cd-c6d5-fc8234b55ba9"
      },
      "execution_count": 2,
      "outputs": [
        {
          "output_type": "execute_result",
          "data": {
            "text/plain": [
              "3.3333333333333335"
            ]
          },
          "metadata": {},
          "execution_count": 2
        }
      ]
    },
    {
      "cell_type": "markdown",
      "source": [
        "## Exercise 10.##\n",
        "### DataScience Languages ###\n",
        "####  Objectives: #####\n",
        "- Python\n",
        "- R\n",
        "- SQL\n",
        "- NoSQL\n",
        "\n"
      ],
      "metadata": {
        "id": "YNbb23yZ9hgh"
      }
    },
    {
      "cell_type": "markdown",
      "source": [
        "## Exercise 11.##\n",
        "## Author: ##\n",
        "## Shilpa ##\n"
      ],
      "metadata": {
        "id": "K97EACUBASCp"
      }
    }
  ]
}